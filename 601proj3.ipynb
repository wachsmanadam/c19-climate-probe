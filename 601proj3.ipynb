{
 "cells": [
  {
   "cell_type": "markdown",
   "metadata": {},
   "source": [
    "# Probing the Relationship between Average Regional Temperature, Dewpoint, and Daily Percent Changes in Total Confirmed nCOVID-19 cases\n",
    "\n",
    "### Background Research:\n",
    "\n",
    "**Faster deterioration of related SARS Coronavirus on surfaces in hot and humid environments**\n",
    "\n",
    "Chan, K. H., Peiris, J. S. M., Lam, S. Y., Poon, L. L. M., Yuen, K. Y., & Seto, W. H. (2011). The Effects of Temperature and Relative Humidity on the Viability of the SARS Coronavirus. Advances in Virology, 2011, 1–7. doi: https://doi.org/10.1155/2011/734690\n",
    "\n",
    "**Median number of days between exposure and developing symptoms**\n",
    "\n",
    "Lauer, S. A., Grantz, K. H., Bi, Q., Jones, F. K., Zheng, Q., Meredith, H. R., ... & Lessler, J. (2020). The incubation period of coronavirus disease 2019 (COVID-19) from publicly reported confirmed cases: estimation and application. Annals of internal medicine. https://doi.org/10.7326/M20-0504\n",
    "\n",
    "### Data Sources: \n",
    "**nCOVID-19 cases**\n",
    "\n",
    "Johns Hopkins Center for Systems Science and Engineering. (2020). _Coronavirus COVID-19 Global Cases._ Retrieved on May 15, 2020 from https://github.com/CSSEGISandData/COVID-19/raw/4297d6d4ff566d652874ee41adafd0a5525ed47a/csse_covid_19_data/csse_covid_19_time_series/time_series_19-covid-Confirmed.csv \n",
    "\n",
    "**Daily Average Climate data**\n",
    "\n",
    "User Engagement and Services Branch, National Climatic Data Center, NESDIS, NOAA, U.S. Department of Commerce. (2020). _Global Surface Summary of the Day._ Retrieved on March 22, 2020 from ftp://ftp.ncdc.noaa.gov/pub/data/gsod/2020/gsod_2020.tar\n",
    "\n",
    "**GeoJSON shapefile of international country borders**\n",
    "\n",
    "Alexandre Bonnasseau. geo-countries dataset. (2018). Retrieved on April 15, 2020 from https://github.com/datasets/geo-countries/raw/master/data/countries.geojson\n",
    "\n",
    "**Acknowledgements:**\n",
    "\n",
    "Robert \"Bobby\" Smith, for his assistance in optimizing my weather station retrieval code"
   ]
  },
  {
   "cell_type": "code",
   "execution_count": 373,
   "metadata": {},
   "outputs": [
    {
     "name": "stdout",
     "output_type": "stream",
     "text": [
      "pandas 1.0.3\n",
      "numpy 1.17.2\n",
      "Matplotlib 3.1.1\n"
     ]
    }
   ],
   "source": [
    "# Multiple dependency imports\n",
    "import pandas as pd\n",
    "print('pandas',pd.__version__)\n",
    "import numpy as np\n",
    "print('numpy',np.__version__)\n",
    "import os\n",
    "import datetime\n",
    "\n",
    "# Subsetting weather stations within countries depedencies\n",
    "from shapely.geometry import Polygon, Point\n",
    "import geojson\n",
    "import urllib.request\n",
    "\n",
    "# Climate data retrieval dependencies\n",
    "from ftplib import FTP\n",
    "import time\n",
    "\n",
    "# Climate data unpacking and parsing dependencies\n",
    "import gzip\n",
    "\n",
    "# Data analysis and visualization dependencies\n",
    "import matplotlib as mpl\n",
    "print('Matplotlib',mpl.__version__)\n",
    "from matplotlib import pyplot as plt\n",
    "from scipy import stats\n",
    "import statsmodels.api as sm\n",
    "from math import log10\n",
    "\n",
    "pd.set_option('display.max_rows', 999)"
   ]
  },
  {
   "cell_type": "markdown",
   "metadata": {},
   "source": [
    "Code for setting the base directory in which all relative directories will be created."
   ]
  },
  {
   "cell_type": "code",
   "execution_count": 374,
   "metadata": {},
   "outputs": [
    {
     "name": "stdout",
     "output_type": "stream",
     "text": [
      "Please enter a directory to use as the base directory for this notebook/home/dreadpirate/PycharmProjects/untitled/\n",
      "estoy loopin\n",
      "/home/dreadpirate/PycharmProjects/untitled\n"
     ]
    }
   ],
   "source": [
    "baseDir = ''\n",
    "while os.path.exists(baseDir) == False:\n",
    "\n",
    "    baseDir = input('Please enter a directory to use as the base directory for this notebook')\n",
    "\n",
    "    baseDir = os.path.abspath(baseDir)\n",
    "    print('estoy loopin')\n",
    "os.chdir(baseDir)\n",
    "print(baseDir)"
   ]
  },
  {
   "cell_type": "code",
   "execution_count": 375,
   "metadata": {},
   "outputs": [
    {
     "name": "stdout",
     "output_type": "stream",
     "text": [
      "climate subdirectory already exists\n",
      "geojson subdirectory already exists\n"
     ]
    }
   ],
   "source": [
    "if os.path.exists('./climate'):\n",
    "    print('climate subdirectory already exists')\n",
    "else:\n",
    "    print('creating climate subdirectory')\n",
    "    os.mkdir('./climate')\n",
    "\n",
    "if os.path.exists('./geojson'):\n",
    "    print('geojson subdirectory already exists')\n",
    "else:\n",
    "    print('creating geojson subdirectory')\n",
    "    os.mkdir('./geojson')\n",
    "\n",
    "    \n",
    "os.chdir('./climate')"
   ]
  },
  {
   "cell_type": "markdown",
   "metadata": {},
   "source": [
    "# Data Acquisition:\n",
    "\n",
    "## Searching GSOD Database for Weather Stations within Countries of Interest"
   ]
  },
  {
   "cell_type": "code",
   "execution_count": 376,
   "metadata": {},
   "outputs": [
    {
     "name": "stdout",
     "output_type": "stream",
     "text": [
      "Weather station index already exists\n"
     ]
    }
   ],
   "source": [
    "# Checks if GSOD index file is already present in directory. If not, retrieves via FTP\n",
    "if os.path.isfile('./isd-history.txt'):\n",
    "    print('Weather station index already exists')\n",
    "else:\n",
    "    email = input('Must download weather station index. Enter your UMBC email address to sign into NOAA\\'s FTP server')\n",
    "    noaaFTP = FTP('ftp.ncdc.noaa.gov',user='ftp',passwd=email)\n",
    "    noaaFTP.cwd('./pub/data/noaa/')\n",
    "    output = os.getcwd()\n",
    "    noaaFTP = noaaFTP.retrbinary('RETR ' + 'isd-history.txt', open(output+'/isd-history.txt', 'wb').write)\n",
    "    noaaFTP.close()\n",
    "\n",
    "# Reads GSOD index file into DataFrame\n",
    "\n",
    "with open('isd-history.txt', 'r') as f:\n",
    "    # Skip first 20 rows of text description, set header, and then manually set the datatypes for columns that would\n",
    "    # otherwise be misinterpreted as numerical data\n",
    "    df = pd.read_fwf(f, skiprows=20, header=0, colspecs='infer',\n",
    "                     dtype={'USAF': object, 'WBAN': object, 'STATION NAME': 'string', 'CTRY': 'string', 'ST': 'string',\n",
    "                            'CALL': 'string', 'BEGIN': object, 'END': object})\n",
    "    f.close()"
   ]
  },
  {
   "cell_type": "code",
   "execution_count": 377,
   "metadata": {},
   "outputs": [],
   "source": [
    "# Convert begin and end columns to datetime format according to format string\n",
    "df['BEGIN'] = pd.to_datetime(df['BEGIN'], format='%Y%m%d')\n",
    "df['END'] = pd.to_datetime(df['END'], format='%Y%m%d')\n",
    "\n",
    "\n",
    "# Filters out weather stations that don't have up-to-date data\n",
    "df = df[df['END'] > pd.to_datetime('20200301', format='%Y%m%d')]"
   ]
  },
  {
   "cell_type": "code",
   "execution_count": 378,
   "metadata": {},
   "outputs": [],
   "source": [
    "# Creating a new column of tuples containing the latitudes and longitudes\n",
    "coordlist = []\n",
    "lat = []\n",
    "lon = []\n",
    "# Create a list of latitudes\n",
    "for latval in df['LAT']:\n",
    "    lat.append(round(latval,3))\n",
    "# Create a list of the longitude values\n",
    "for lonval in df['LON']:\n",
    "    lon.append(round(lonval,3))\n",
    "    \n",
    "\n",
    "# Create a list of tuples (longitude,latitude)\n",
    "for i in range(len(lat)):\n",
    "    coordlist.append((round(lon[i],3),round(lat[i],3)))\n",
    "    \n",
    "# Insert list of tuples as a new column and delete individual value lists\n",
    "df.insert(11,column='COORDPAIR',value=coordlist)\n",
    "del lat, lon, coordlist"
   ]
  },
  {
   "cell_type": "code",
   "execution_count": 379,
   "metadata": {},
   "outputs": [],
   "source": [
    "class Country:\n",
    "    def __init__(self, Feature):\n",
    "        self.Feature = Feature\n",
    "\n",
    "\n",
    "    def getID(self):\n",
    "        return self.Feature.id\n",
    "\n",
    "    def getName(self):\n",
    "        return self.Feature.properties['ADMIN']\n",
    "\n",
    "    def getPolygons(self):\n",
    "        polygons = []\n",
    "        if self.Feature.geometry.type == \"MultiPolygon\":\n",
    "            for poly in self.Feature.geometry.coordinates:\n",
    "                polygons.append(poly[0])\n",
    "\n",
    "\n",
    "        elif self.Feature.geometry.type == \"Polygon\":\n",
    "            polygons.append(self.Feature.geometry.coordinates[0])\n",
    "\n",
    "        return polygons\n",
    "\n",
    "    def getGeomType(self):\n",
    "        return self.Feature.geometry.type\n"
   ]
  },
  {
   "cell_type": "code",
   "execution_count": 380,
   "metadata": {},
   "outputs": [],
   "source": [
    "class CountryContainer:\n",
    "    def __init__(self, GeoJsonFilepath):\n",
    "\n",
    "        self.GeoJsonFilepath = GeoJsonFilepath\n",
    "\n",
    "        self.GeoJson = None\n",
    "\n",
    "        self.Countries = list()\n",
    "\n",
    "        self.load()\n",
    "\n",
    "\n",
    "\n",
    "    def load(self):\n",
    "        with open(self.GeoJsonFilepath, 'r') as f:\n",
    "            self.GeoJson = geojson.load(f)\n",
    "            f.close()\n",
    "\n",
    "        for feature in self.GeoJson.features:\n",
    "            self.Countries.append(Country(feature))\n",
    "\n",
    "    def getCountryByName(self,name):\n",
    "\n",
    "        for ctry in self.Countries:\n",
    "\n",
    "            if ctry.getName() == name:\n",
    "                return ctry\n",
    "\n",
    "        print('could not find', name)\n",
    "        return None\n"
   ]
  },
  {
   "cell_type": "code",
   "execution_count": 384,
   "metadata": {},
   "outputs": [
    {
     "name": "stdout",
     "output_type": "stream",
     "text": [
      "Countries geojson file does not exist, downloading from github and writing to /home/dreadpirate/PycharmProjects/untitled/geojson/countries.geojson\n"
     ]
    }
   ],
   "source": [
    "# Creates a CountryContainer object out of the MultiFeature geojson file, which in turn creates a list of\n",
    "# Country objects out of every geojson Feature within it.\n",
    "if os.path.exists('../geojson/countries.geojson'):\n",
    "    print('Countries geojson file already exists')\n",
    "else:\n",
    "    with open('../geojson/countries.geojson','w') as geo:\n",
    "        print('Countries geojson file does not exist, downloading from github and writing to',os.path.abspath('../geojson/countries.geojson'))\n",
    "        for line in urllib.request.urlopen('https://github.com/datasets/geo-countries/raw/master/data/countries.geojson'):\n",
    "            geo.write(line.decode())\n",
    "            \n",
    "        geo.close()\n",
    "        \n",
    "allCountries = CountryContainer(\"../geojson/countries.geojson\")"
   ]
  },
  {
   "cell_type": "code",
   "execution_count": 385,
   "metadata": {},
   "outputs": [
    {
     "data": {
      "text/plain": [
       "['Aruba',\n",
       " 'Afghanistan',\n",
       " 'Angola',\n",
       " 'Anguilla',\n",
       " 'Albania',\n",
       " 'Aland',\n",
       " 'Andorra',\n",
       " 'United Arab Emirates',\n",
       " 'Argentina',\n",
       " 'Armenia',\n",
       " 'American Samoa',\n",
       " 'Antarctica',\n",
       " 'Ashmore and Cartier Islands',\n",
       " 'French Southern and Antarctic Lands',\n",
       " 'Antigua and Barbuda',\n",
       " 'Australia',\n",
       " 'Austria',\n",
       " 'Azerbaijan',\n",
       " 'Burundi',\n",
       " 'Belgium',\n",
       " 'Benin',\n",
       " 'Burkina Faso',\n",
       " 'Bangladesh',\n",
       " 'Bulgaria',\n",
       " 'Bahrain',\n",
       " 'The Bahamas',\n",
       " 'Bosnia and Herzegovina',\n",
       " 'Bajo Nuevo Bank (Petrel Is.)',\n",
       " 'Saint Barthelemy',\n",
       " 'Belarus',\n",
       " 'Belize',\n",
       " 'Bermuda',\n",
       " 'Bolivia',\n",
       " 'Brazil',\n",
       " 'Barbados',\n",
       " 'Brunei',\n",
       " 'Bhutan',\n",
       " 'Botswana',\n",
       " 'Central African Republic',\n",
       " 'Canada',\n",
       " 'Switzerland',\n",
       " 'Chile',\n",
       " 'China',\n",
       " 'Ivory Coast',\n",
       " 'Clipperton Island',\n",
       " 'Cameroon',\n",
       " 'Cyprus No Mans Area',\n",
       " 'Democratic Republic of the Congo',\n",
       " 'Republic of Congo',\n",
       " 'Cook Islands',\n",
       " 'Colombia',\n",
       " 'Comoros',\n",
       " 'Cape Verde',\n",
       " 'Costa Rica',\n",
       " 'Coral Sea Islands',\n",
       " 'Cuba',\n",
       " 'Curaçao',\n",
       " 'Cayman Islands',\n",
       " 'Northern Cyprus',\n",
       " 'Cyprus',\n",
       " 'Czech Republic',\n",
       " 'Germany',\n",
       " 'Djibouti',\n",
       " 'Dominica',\n",
       " 'Denmark',\n",
       " 'Dominican Republic',\n",
       " 'Algeria',\n",
       " 'Ecuador',\n",
       " 'Egypt',\n",
       " 'Eritrea',\n",
       " 'Dhekelia Sovereign Base Area',\n",
       " 'Spain',\n",
       " 'Estonia',\n",
       " 'Ethiopia',\n",
       " 'Finland',\n",
       " 'Fiji',\n",
       " 'Falkland Islands',\n",
       " 'France',\n",
       " 'Faroe Islands',\n",
       " 'Federated States of Micronesia',\n",
       " 'Gabon',\n",
       " 'United Kingdom',\n",
       " 'Georgia',\n",
       " 'Guernsey',\n",
       " 'Ghana',\n",
       " 'Gibraltar',\n",
       " 'Guinea',\n",
       " 'Gambia',\n",
       " 'Guinea Bissau',\n",
       " 'Equatorial Guinea',\n",
       " 'Greece',\n",
       " 'Grenada',\n",
       " 'Greenland',\n",
       " 'Guatemala',\n",
       " 'Guam',\n",
       " 'Guyana',\n",
       " 'Hong Kong S.A.R.',\n",
       " 'Heard Island and McDonald Islands',\n",
       " 'Honduras',\n",
       " 'Croatia',\n",
       " 'Haiti',\n",
       " 'Hungary',\n",
       " 'Indonesia',\n",
       " 'Isle of Man',\n",
       " 'India',\n",
       " 'Indian Ocean Territories',\n",
       " 'British Indian Ocean Territory',\n",
       " 'Ireland',\n",
       " 'Iran',\n",
       " 'Iraq',\n",
       " 'Iceland',\n",
       " 'Israel',\n",
       " 'Italy',\n",
       " 'Jamaica',\n",
       " 'Jersey',\n",
       " 'Jordan',\n",
       " 'Japan',\n",
       " 'Baykonur Cosmodrome',\n",
       " 'Siachen Glacier',\n",
       " 'Kazakhstan',\n",
       " 'Kenya',\n",
       " 'Kyrgyzstan',\n",
       " 'Cambodia',\n",
       " 'Kiribati',\n",
       " 'Saint Kitts and Nevis',\n",
       " 'South Korea',\n",
       " 'Kosovo',\n",
       " 'Kuwait',\n",
       " 'Laos',\n",
       " 'Lebanon',\n",
       " 'Liberia',\n",
       " 'Libya',\n",
       " 'Saint Lucia',\n",
       " 'Liechtenstein',\n",
       " 'Sri Lanka',\n",
       " 'Lesotho',\n",
       " 'Lithuania',\n",
       " 'Luxembourg',\n",
       " 'Latvia',\n",
       " 'Macao S.A.R',\n",
       " 'Saint Martin',\n",
       " 'Morocco',\n",
       " 'Monaco',\n",
       " 'Moldova',\n",
       " 'Madagascar',\n",
       " 'Maldives',\n",
       " 'Mexico',\n",
       " 'Marshall Islands',\n",
       " 'Macedonia',\n",
       " 'Mali',\n",
       " 'Malta',\n",
       " 'Myanmar',\n",
       " 'Montenegro',\n",
       " 'Mongolia',\n",
       " 'Northern Mariana Islands',\n",
       " 'Mozambique',\n",
       " 'Mauritania',\n",
       " 'Montserrat',\n",
       " 'Mauritius',\n",
       " 'Malawi',\n",
       " 'Malaysia',\n",
       " 'Namibia',\n",
       " 'New Caledonia',\n",
       " 'Niger',\n",
       " 'Norfolk Island',\n",
       " 'Nigeria',\n",
       " 'Nicaragua',\n",
       " 'Niue',\n",
       " 'Netherlands',\n",
       " 'Norway',\n",
       " 'Nepal',\n",
       " 'Nauru',\n",
       " 'New Zealand',\n",
       " 'Oman',\n",
       " 'Pakistan',\n",
       " 'Panama',\n",
       " 'Pitcairn Islands',\n",
       " 'Peru',\n",
       " 'Spratly Islands',\n",
       " 'Philippines',\n",
       " 'Palau',\n",
       " 'Papua New Guinea',\n",
       " 'Poland',\n",
       " 'Puerto Rico',\n",
       " 'North Korea',\n",
       " 'Portugal',\n",
       " 'Paraguay',\n",
       " 'Palestine',\n",
       " 'French Polynesia',\n",
       " 'Qatar',\n",
       " 'Romania',\n",
       " 'Russia',\n",
       " 'Rwanda',\n",
       " 'Western Sahara',\n",
       " 'Saudi Arabia',\n",
       " 'Scarborough Reef',\n",
       " 'Sudan',\n",
       " 'South Sudan',\n",
       " 'Senegal',\n",
       " 'Serranilla Bank',\n",
       " 'Singapore',\n",
       " 'South Georgia and South Sandwich Islands',\n",
       " 'Saint Helena',\n",
       " 'Solomon Islands',\n",
       " 'Sierra Leone',\n",
       " 'El Salvador',\n",
       " 'San Marino',\n",
       " 'Somaliland',\n",
       " 'Somalia',\n",
       " 'Saint Pierre and Miquelon',\n",
       " 'Republic of Serbia',\n",
       " 'Sao Tome and Principe',\n",
       " 'Suriname',\n",
       " 'Slovakia',\n",
       " 'Slovenia',\n",
       " 'Sweden',\n",
       " 'Swaziland',\n",
       " 'Sint Maarten',\n",
       " 'Seychelles',\n",
       " 'Syria',\n",
       " 'Turks and Caicos Islands',\n",
       " 'Chad',\n",
       " 'Togo',\n",
       " 'Thailand',\n",
       " 'Tajikistan',\n",
       " 'Turkmenistan',\n",
       " 'East Timor',\n",
       " 'Tonga',\n",
       " 'Trinidad and Tobago',\n",
       " 'Tunisia',\n",
       " 'Turkey',\n",
       " 'Tuvalu',\n",
       " 'Taiwan',\n",
       " 'United Republic of Tanzania',\n",
       " 'Uganda',\n",
       " 'Ukraine',\n",
       " 'United States Minor Outlying Islands',\n",
       " 'Uruguay',\n",
       " 'United States of America',\n",
       " 'US Naval Base Guantanamo Bay',\n",
       " 'Uzbekistan',\n",
       " 'Vatican',\n",
       " 'Saint Vincent and the Grenadines',\n",
       " 'Venezuela',\n",
       " 'British Virgin Islands',\n",
       " 'United States Virgin Islands',\n",
       " 'Vietnam',\n",
       " 'Vanuatu',\n",
       " 'Wallis and Futuna',\n",
       " 'Akrotiri Sovereign Base Area',\n",
       " 'Samoa',\n",
       " 'Yemen',\n",
       " 'South Africa',\n",
       " 'Zambia',\n",
       " 'Zimbabwe']"
      ]
     },
     "execution_count": 385,
     "metadata": {},
     "output_type": "execute_result"
    }
   ],
   "source": [
    "[country.getName() for country in allCountries.Countries]"
   ]
  },
  {
   "cell_type": "code",
   "execution_count": 386,
   "metadata": {},
   "outputs": [],
   "source": [
    "def weatherInCountry(weatherdf,ctryobj):\n",
    "    \"\"\"\n",
    "    Takes a dataframe of weather stations and their coordinates (lon,lat) and a geojson of the Country class\n",
    "    and returns a dataframe subsetted to only the weather stations which lie within the country's coordinates\n",
    "    :param weatherdf:\n",
    "    :param ctryobj:\n",
    "    :return:\n",
    "    \"\"\"\n",
    "    borders = ctryobj.getPolygons()\n",
    "    polys = []\n",
    "    # Gets every polygon that makes up the country, converts it to a shapely Polygon object, and deposits it in\n",
    "    # list polys\n",
    "    for poly in borders:\n",
    "        polys.append(Polygon(poly))\n",
    "\n",
    "    # Ind = row index counter\n",
    "    ind = -1\n",
    "    stations = []\n",
    "    # Iterates through every coordinate pair in the weather station dataframe and checks whether the point lies\n",
    "    # within any of the country polygons using shapely's .contains method. Appends the index number to the list\n",
    "    # for stations that lie within the country\n",
    "    for coord in weatherdf['COORDPAIR']:\n",
    "        ind+=1\n",
    "        for poly in polys:\n",
    "            if poly.contains(Point(coord)):\n",
    "                stations.append(ind)\n",
    "\n",
    "    return weatherdf.iloc[stations]\n"
   ]
  },
  {
   "cell_type": "markdown",
   "metadata": {},
   "source": [
    "## Climate Data Retrieval"
   ]
  },
  {
   "cell_type": "code",
   "execution_count": 387,
   "metadata": {},
   "outputs": [],
   "source": [
    "SK = allCountries.getCountryByName('South Korea')\n",
    "weatherdfSK = weatherInCountry(df,SK)"
   ]
  },
  {
   "cell_type": "code",
   "execution_count": 388,
   "metadata": {},
   "outputs": [],
   "source": [
    "def getStationIDs(weatherdf):\n",
    "    \"\"\"\n",
    "    Extracts and formats the full, formatted weather station ID from a subset of the\n",
    "    weather station index dataframe\n",
    "    \"\"\"\n",
    "    return ['{}-{}'.format(rowSeries['USAF'],rowSeries['WBAN']) for index, rowSeries in weatherdf.iterrows()]"
   ]
  },
  {
   "cell_type": "code",
   "execution_count": 393,
   "metadata": {},
   "outputs": [],
   "source": [
    "# Simpler, if sloppier, to establish output lists outside the function because it's called individually for\n",
    "# each file in the GSOD 2020 database\n",
    "gsodpaths = []\n",
    "\n",
    "def getPaths(stringinput):\n",
    "    \"\"\"\n",
    "    Helper function which generates a list of the full file names from the FTP server by checking them\n",
    "    against the list of formatted weather station IDs\n",
    "    :param stringinput:\n",
    "    :return:\n",
    "    \"\"\"\n",
    "    for id in stationIDs:\n",
    "        if stringinput.startswith(id):\n",
    "            gsodpaths.append(stringinput)"
   ]
  },
  {
   "cell_type": "code",
   "execution_count": 394,
   "metadata": {},
   "outputs": [],
   "source": [
    "def dlGsod(stringinput,destination):\n",
    "    \"\"\"\n",
    "    Takes a file name from the FTP server as input and downloads the corresponding datafile if\n",
    "    one of the target station IDs is in the beginning of the filename. Also logs the file's domain\n",
    "    :param stringinput:\n",
    "    :return:\n",
    "    \"\"\"\n",
    "    try:\n",
    "        basepath = os.path.abspath(destination)\n",
    "    except:\n",
    "        print('Problem with destination path, aborting.')\n",
    "        return None\n",
    "    \n",
    "    for id in stationIDs:\n",
    "        if stringinput.startswith(id):\n",
    "            # Checks if the dllog text file already exists. If so, download URL is appended rather than overwritten\n",
    "            if os.path.isfile(basepath+'/dllog.txt'):\n",
    "                dllog = open(basepath+'/dllog.txt', 'a')\n",
    "                outputPath = basepath + '/' + stringinput\n",
    "                dllog.write('\\n'+time.asctime()+': '+'ftp.ncdc.noaa.gov/pub/data/gsod/2020/'+stringinput)\n",
    "                noaaFTP.retrbinary('RETR '+stringinput, open(outputPath,'wb').write)\n",
    "            # This creates the log file and writes the first download URL\n",
    "            else:\n",
    "                dllog = open(basepath+'/dllog.txt', 'w')\n",
    "                outputPath = basepath + '/' + stringinput\n",
    "                dllog.write(time.asctime()+': '+'ftp.ncdc.noaa.gov/pub/data/gsod/2020/' + stringinput)\n",
    "                noaaFTP.retrbinary('RETR ' + stringinput, open(outputPath, 'wb').write)\n",
    "\n",
    "    dllog.close()\n"
   ]
  },
  {
   "cell_type": "code",
   "execution_count": 396,
   "metadata": {},
   "outputs": [
    {
     "data": {
      "text/plain": [
       "'226 Transfer complete'"
      ]
     },
     "execution_count": 396,
     "metadata": {},
     "output_type": "execute_result"
    }
   ],
   "source": [
    "stationIDs = getStationIDs(weatherdfSK)\n",
    "\n",
    "# Opens FTP connection with the NCDC NOAA Global Summary of the Day database\n",
    "try:\n",
    "    noaaFTP = FTP('ftp.ncdc.noaa.gov',user='ftp',passwd=email)\n",
    "except NameError:\n",
    "    email = input('Must download weather stations. Enter your UMBC email address to sign into NOAA\\'s FTP server')\n",
    "    noaaFTP = FTP('ftp.ncdc.noaa.gov',user='ftp',passwd=email)\n",
    "\n",
    "# Changes working directory to the 2020 data files\n",
    "noaaFTP.cwd('./pub/data/gsod/2020/')\n",
    "\n",
    "# Lists every file in the current directory and runs them as an input into getPaths, which results in a list\n",
    "# of the filenames for the data from the target weather stations in gsodpaths\n",
    "noaaFTP.retrlines('NLST',callback=getPaths)"
   ]
  },
  {
   "cell_type": "code",
   "execution_count": 397,
   "metadata": {},
   "outputs": [
    {
     "data": {
      "text/plain": [
       "'221 Goodbye.'"
      ]
     },
     "execution_count": 397,
     "metadata": {},
     "output_type": "execute_result"
    }
   ],
   "source": [
    "# Downloads from FTP paths using dlGsod\n",
    "for path in gsodpaths:\n",
    "    dlGsod(path,destination='./SK/')\n",
    "\n",
    "noaaFTP.quit()"
   ]
  },
  {
   "cell_type": "markdown",
   "metadata": {},
   "source": [
    "## Create Time Series of daily average values of relevant climate statistics"
   ]
  },
  {
   "cell_type": "code",
   "execution_count": 398,
   "metadata": {},
   "outputs": [],
   "source": [
    "def unpackWeatherStations(path):\n",
    "    \"\"\"\n",
    "    Takes a directory path containing gzip archives of GSOD weather data, unpacks all of them into dataframes,\n",
    "    and returns a list of the dataframe objects\n",
    "    \"\"\"\n",
    "    # Store cwd to return to it after execution, then change working directory to path\n",
    "    CWD = os.getcwd()\n",
    "    os.chdir(path)\n",
    "\n",
    "    # Put every .gz filename in a list\n",
    "    fileList = []\n",
    "    for file in os.listdir(path):\n",
    "        if file.endswith('.gz'):\n",
    "            fileList.append(file)\n",
    "\n",
    "    # Default sort the file list by name\n",
    "    fileList.sort()\n",
    "\n",
    "    for index, file in enumerate(fileList):\n",
    "\n",
    "        with gzip.open(file, 'rt') as f:\n",
    "            unzipped = pd.read_fwf(f,\n",
    "                                   colspecs=[(0, 6), (7, 12), (14, 22), (24, 30), (31, 33),\n",
    "                                             (35, 41), (42, 44), (46, 52), (53, 55), (57, 63),\n",
    "                                             (64, 66), (64, 66), (68, 73), (74, 76), (78, 83),\n",
    "                                             (84, 86), (88, 93), (95, 100), (102, 108), (108, 109),\n",
    "                                             (110, 116), (116, 117), (118, 123), (123, 124), (125, 130),\n",
    "                                             (132, 138)],\n",
    "                                   dtype={'STN---': object, 'WBAN': object,\n",
    "                                          'YEARMODA': object, 'TEMP': 'float64',\n",
    "                                          'DEWP': 'float64', 'SLP': 'float64', 'STP': 'float64',\n",
    "                                          'VISIB': 'float64', 'WDSP': 'float64', 'MXSPD': 'float64',\n",
    "                                          'GUST': 'float64', 'MAX': 'float64', 'MIN': 'float64',\n",
    "                                          'PRCP': 'float64', 'SNDP': 'float64', 'FRSHTT': object\n",
    "                                          })\n",
    "            f.close()\n",
    "        # Preserve all rows, but only retain columns containing data of interest\n",
    "        unzipped = unzipped.loc[:,['STN---','WBAN','YEARMODA','TEMP','DEWP','MAX','MIN']]\n",
    "        # Change YEARMODA to pandas timestamp datatype and makes the date the index\n",
    "        unzipped['YEARMODA'] = pd.to_datetime(unzipped['YEARMODA'], format='%Y%m%d')\n",
    "        unzipped.set_index('YEARMODA',inplace=True)\n",
    "        # Replaces stand-in values for missing data with standard NaNs\n",
    "        unzipped.mask(lambda x: x == 999.9, inplace=True)\n",
    "        unzipped.mask(lambda x: x == 99.99, inplace=True)\n",
    "        unzipped.mask(lambda x: x == 9999.9, inplace=True)\n",
    "        # Assigns newly formed dataframe in-place to list fileList\n",
    "        fileList[index] = unzipped\n",
    "\n",
    "    # Returns to original working directory before terminating\n",
    "    os.chdir(CWD)\n",
    "    return fileList"
   ]
  },
  {
   "cell_type": "code",
   "execution_count": 399,
   "metadata": {},
   "outputs": [],
   "source": [
    "weatherStations = unpackWeatherStations('/home/dreadpirate/PycharmProjects/untitled/climate/SK')\n",
    "\n",
    "# Create a dataframe with the same index scheme as the weather stations into which the average data will be\n",
    "# recorded"
   ]
  },
  {
   "cell_type": "code",
   "execution_count": 400,
   "metadata": {
    "scrolled": true
   },
   "outputs": [
    {
     "name": "stdout",
     "output_type": "stream",
     "text": [
      "Missing row for station 471105 99999 on 2020-02-07 00:00:00\n",
      "Missing row for station 471105 99999 on 2020-02-10 00:00:00\n",
      "Missing row for station 471105 99999 on 2020-02-11 00:00:00\n",
      "Missing row for station 471105 99999 on 2020-02-12 00:00:00\n",
      "Missing row for station 471105 99999 on 2020-02-13 00:00:00\n",
      "Missing row for station 471105 99999 on 2020-02-14 00:00:00\n",
      "Missing row for station 471105 99999 on 2020-02-16 00:00:00\n",
      "Missing row for station 471105 99999 on 2020-02-17 00:00:00\n",
      "Missing row for station 471105 99999 on 2020-02-18 00:00:00\n",
      "Missing row for station 471105 99999 on 2020-02-19 00:00:00\n",
      "Missing row for station 471105 99999 on 2020-02-20 00:00:00\n",
      "Missing row for station 471105 99999 on 2020-02-21 00:00:00\n",
      "Missing row for station 471105 99999 on 2020-02-23 00:00:00\n",
      "Missing row for station 471315 99999 on 2020-02-23 00:00:00\n",
      "Missing row for station 471105 99999 on 2020-02-24 00:00:00\n",
      "Missing row for station 471105 99999 on 2020-02-25 00:00:00\n",
      "Missing row for station 471105 99999 on 2020-02-26 00:00:00\n",
      "Missing row for station 471105 99999 on 2020-02-27 00:00:00\n",
      "Missing row for station 471105 99999 on 2020-02-28 00:00:00\n",
      "Missing row for station 471105 99999 on 2020-03-01 00:00:00\n",
      "Missing row for station 471105 99999 on 2020-03-02 00:00:00\n",
      "Missing row for station 471105 99999 on 2020-03-03 00:00:00\n",
      "Missing row for station 471105 99999 on 2020-03-04 00:00:00\n",
      "Missing row for station 471105 99999 on 2020-03-05 00:00:00\n",
      "Missing row for station 471105 99999 on 2020-03-06 00:00:00\n",
      "Missing row for station 471105 99999 on 2020-03-08 00:00:00\n",
      "Missing row for station 471105 99999 on 2020-03-09 00:00:00\n",
      "Missing row for station 471105 99999 on 2020-03-10 00:00:00\n",
      "Missing row for station 471105 99999 on 2020-03-11 00:00:00\n",
      "Missing row for station 471105 99999 on 2020-03-12 00:00:00\n",
      "Missing row for station 471105 99999 on 2020-03-13 00:00:00\n",
      "Missing row for station 471105 99999 on 2020-03-15 00:00:00\n",
      "Missing row for station 471105 99999 on 2020-03-16 00:00:00\n",
      "Missing row for station 471315 99999 on 2020-04-12 00:00:00\n",
      "Missing row for station 471105 99999 on 2020-05-07 00:00:00\n",
      "Missing row for station 471105 99999 on 2020-05-08 00:00:00\n",
      "Missing row for station 471105 99999 on 2020-05-10 00:00:00\n",
      "Missing row for station 471105 99999 on 2020-05-11 00:00:00\n",
      "Missing row for station 471094 99999 on 2020-05-12 00:00:00\n",
      "Missing row for station 471105 99999 on 2020-05-12 00:00:00\n",
      "Missing row for station 471030 99999 on 2020-05-13 00:00:00\n",
      "Missing row for station 471094 99999 on 2020-05-13 00:00:00\n",
      "Missing row for station 471105 99999 on 2020-05-13 00:00:00\n"
     ]
    }
   ],
   "source": [
    "avgDF = pd.DataFrame().reindex_like(weatherStations[0])\n",
    "#Adds a column for counting the number of stations the the average was calculated from\n",
    "avgDF['NSTATIONS'] = np.zeros(shape=avgDF.shape[0],dtype='int')\n",
    "# Iterates over dates in the index and aggregates the mean value (with NaN handling) for each climate variable \n",
    "# in the list of weather station dataframes\n",
    "missing = []\n",
    "for date in avgDF.index:\n",
    "    #print(date)\n",
    "    # Long-form iteration over each station per date in order to implement the try-except block to handle\n",
    "    # stations missing data on particular dates\n",
    "    temp = []\n",
    "    dewp = []\n",
    "    maxtemp = []\n",
    "    mintemp = []\n",
    "    nstations = 0\n",
    "    for station in weatherStations:\n",
    "        try:\n",
    "            nstations += 1\n",
    "            temp.append(station.at[date,'TEMP'])\n",
    "            dewp.append(station.at[date,'DEWP'])\n",
    "            maxtemp.append(station.at[date,'MAX'])\n",
    "            mintemp.append(station.at[date,'MIN'])\n",
    "        except KeyError:\n",
    "            print('Missing row for station',station.iloc[0,0],station.iloc[0,1],'on',date)\n",
    "            missing.append((station.iloc[0,0]+station.iloc[0,1],date))\n",
    "            nstations -= 1\n",
    "        \n",
    "    avgDF.loc[date, 'NSTATIONS'] = nstations\n",
    "    avgDF.loc[date, 'TEMP'] = np.nanmean(temp)\n",
    "    avgDF.loc[date, 'DEWP'] = np.nanmean(dewp)\n",
    "    avgDF.loc[date, 'MAX'] = np.nanmean(maxtemp)\n",
    "    avgDF.loc[date, 'MIN'] = np.nanmean(mintemp)\n",
    "\n",
    "# Finally, drops ID columns which are lost in aggregation\n",
    "avgDF = avgDF.drop(labels=['STN---','WBAN'],axis=1)"
   ]
  },
  {
   "cell_type": "code",
   "execution_count": 401,
   "metadata": {
    "scrolled": true
   },
   "outputs": [
    {
     "name": "stdout",
     "output_type": "stream",
     "text": [
      "2020-02-07 00:00:00 73\n",
      "2020-02-10 00:00:00 73\n",
      "2020-02-11 00:00:00 73\n",
      "2020-02-12 00:00:00 73\n",
      "2020-02-13 00:00:00 73\n",
      "2020-02-14 00:00:00 73\n",
      "2020-02-16 00:00:00 73\n",
      "2020-02-17 00:00:00 73\n",
      "2020-02-18 00:00:00 73\n",
      "2020-02-19 00:00:00 73\n",
      "2020-02-20 00:00:00 73\n",
      "2020-02-21 00:00:00 73\n",
      "2020-02-23 00:00:00 72\n",
      "2020-02-23 00:00:00 72\n",
      "2020-02-24 00:00:00 73\n",
      "2020-02-25 00:00:00 73\n",
      "2020-02-26 00:00:00 73\n",
      "2020-02-27 00:00:00 73\n",
      "2020-02-28 00:00:00 73\n",
      "2020-03-01 00:00:00 73\n",
      "2020-03-02 00:00:00 73\n",
      "2020-03-03 00:00:00 73\n",
      "2020-03-04 00:00:00 73\n",
      "2020-03-05 00:00:00 73\n",
      "2020-03-06 00:00:00 73\n",
      "2020-03-08 00:00:00 73\n",
      "2020-03-09 00:00:00 73\n",
      "2020-03-10 00:00:00 73\n",
      "2020-03-11 00:00:00 73\n",
      "2020-03-12 00:00:00 73\n",
      "2020-03-13 00:00:00 73\n",
      "2020-03-15 00:00:00 73\n",
      "2020-03-16 00:00:00 73\n",
      "2020-04-12 00:00:00 73\n",
      "2020-05-07 00:00:00 73\n",
      "2020-05-08 00:00:00 73\n",
      "2020-05-10 00:00:00 73\n",
      "2020-05-11 00:00:00 73\n",
      "2020-05-12 00:00:00 72\n",
      "2020-05-12 00:00:00 72\n",
      "2020-05-13 00:00:00 71\n",
      "2020-05-13 00:00:00 71\n",
      "2020-05-13 00:00:00 71\n"
     ]
    }
   ],
   "source": [
    "# Checking the dates and total number of stations still involved in avg\n",
    "for tup in missing:\n",
    "    print(tup[1],avgDF.loc[tup[1],'NSTATIONS'])"
   ]
  },
  {
   "cell_type": "markdown",
   "metadata": {},
   "source": [
    "## COVID Case Data Retrieval and Data Structuring"
   ]
  },
  {
   "cell_type": "code",
   "execution_count": 404,
   "metadata": {},
   "outputs": [
    {
     "data": {
      "text/plain": [
       "'/home/dreadpirate/PycharmProjects'"
      ]
     },
     "execution_count": 404,
     "metadata": {},
     "output_type": "execute_result"
    }
   ],
   "source": [
    "# Returns to base directory\n",
    "os.chdir('..')\n",
    "os.getcwd()"
   ]
  },
  {
   "cell_type": "code",
   "execution_count": 406,
   "metadata": {},
   "outputs": [
    {
     "name": "stdout",
     "output_type": "stream",
     "text": [
      "confirmed case file already present\n",
      "confirmed case file already present\n"
     ]
    }
   ],
   "source": [
    "if os.path.isfile('./ccases/time_series_covid19_confirmed_global.csv'):\n",
    "    print('confirmed case file already present')\n",
    "    caseData = pd.read_csv('./ccases/time_series_covid19_confirmed_global.csv',index_col=False)\n",
    "else:\n",
    "    print('reading csv from github')\n",
    "    caseData = pd.read_csv('https://raw.githubusercontent.com/CSSEGISandData/COVID-19/4297d6d4ff566d652874ee41adafd0a5525ed47a/csse_covid_19_data/csse_covid_19_time_series/time_series_19-covid-Confirmed.csv',index_col=False)\n",
    "    \n",
    "if os.path.isfile('./ccases/time_series_covid19_deaths_global.csv'):\n",
    "    print('confirmed mortality file already present')\n",
    "    mortData = pd.read_csv('./ccases/time_series_covid19_deaths_global.csv',index_col=False)\n",
    "else:\n",
    "    print('reading csv from github')\n",
    "    mortData = pd.read_csv('https://raw.githubusercontent.com/CSSEGISandData/COVID-19/4297d6d4ff566d652874ee41adafd0a5525ed47a/csse_covid_19_data/csse_covid_19_time_series/time_series_19-covid-Deaths.csv')"
   ]
  },
  {
   "cell_type": "code",
   "execution_count": 407,
   "metadata": {},
   "outputs": [],
   "source": [
    "# Select country to convert to a pandas time-indexed Series via query\n",
    "\n",
    "caseDataSK = caseData.query('`Country/Region` == \"Korea, South\"')"
   ]
  },
  {
   "cell_type": "code",
   "execution_count": 408,
   "metadata": {},
   "outputs": [],
   "source": [
    "# First four columns are Province, country, lat, and longitude, thus discarded during conversion\n",
    "caseDataSK = pd.Series(data=caseDataSK.iloc[:,4::].values[0],index=list(caseData.columns[4::]),name='South Korea')\n",
    "caseDataSK.index = pd.to_datetime(caseDataSK.index, infer_datetime_format=True)"
   ]
  },
  {
   "cell_type": "code",
   "execution_count": 409,
   "metadata": {},
   "outputs": [],
   "source": [
    "# Same procedure for mortality data\n",
    "\n",
    "mortData = pd.read_csv('./ccases/time_series_covid19_deaths_global.csv')\n",
    "mortDataSK = mortData.query('`Country/Region` == \"Korea, South\"')\n",
    "mortDataSK = pd.Series(data=mortDataSK.iloc[:,4::].values[0],index=list(caseData.columns[4::]),name='South Korea')\n",
    "mortDataSK.index = pd.to_datetime(mortDataSK.index, infer_datetime_format=True)"
   ]
  },
  {
   "cell_type": "code",
   "execution_count": 410,
   "metadata": {},
   "outputs": [],
   "source": [
    "# Combine the case and mortality series into dataframe\n",
    "combinedSK = pd.concat(objs=[caseDataSK,mortDataSK],keys=['CumuCases','CumuDeaths'],axis=1)"
   ]
  },
  {
   "cell_type": "code",
   "execution_count": 411,
   "metadata": {},
   "outputs": [],
   "source": [
    "# Create a new comprehensive Dataframe\n",
    "combinedSK = pd.concat(objs=[caseDataSK,mortDataSK],keys=['CumuCases','CumuDeaths'],axis=1)\n",
    "\n",
    "# Note: no reported increase in cases on 3-23 despite being on a massive rising trend. Resolve with manual\n",
    "# interpolation\n",
    "difference = combinedSK.loc[pd.to_datetime('2020-03-24')]['CumuCases']-combinedSK.loc[pd.to_datetime('2020-03-22')]['CumuCases']\n",
    "\n",
    "combinedSK.loc[pd.to_datetime('2020-03-23')]['CumuCases'] += difference//2\n",
    "\n",
    "# Adds day-to-day increases in cases and deaths as separate columns\n",
    "combinedSK['NewCases'] = combinedSK['CumuCases'].diff(1)\n",
    "combinedSK['NewDeaths'] = combinedSK['CumuDeaths'].diff(1)\n",
    "\n",
    "# Adds averaged climate data\n",
    "combinedSK = combinedSK.join(avgDF.loc[pd.to_datetime('2020-01-16'):,:],how='right')"
   ]
  },
  {
   "cell_type": "markdown",
   "metadata": {},
   "source": [
    "# Data Analysis"
   ]
  },
  {
   "cell_type": "markdown",
   "metadata": {},
   "source": [
    "### Hypothesis\n",
    "If high temperature or humidity significantly reduces transmission of COVID-19, then fluctuations in the relative increase in cases and/or mortality day-to-day should correlate with fluctuations in those climate measures\n",
    "\n",
    "### Methodology\n",
    "Calculate linear regressions of daily percent change in nCOVID-19 cases in terms of regional average temperature and average temperature-average dew point differential. If there is a strong relationship, the regression will have a large R^2 (at least 0.20) with a p_value below 0.05"
   ]
  },
  {
   "cell_type": "markdown",
   "metadata": {},
   "source": [
    "Overview of climate variables. \n",
    "- Day averages for each station are composed of many measurements, so the mean's position relative to average maxima and minima varies\n",
    "- The smaller the difference between the dew point and mean temperature, the more humid the day"
   ]
  },
  {
   "cell_type": "code",
   "execution_count": 222,
   "metadata": {},
   "outputs": [
    {
     "data": {
      "image/png": "[encoded data removed]",
      "text/plain": [
       "<Figure size 864x576 with 2 Axes>"
      ]
     },
     "metadata": {
      "needs_background": "light"
     },
     "output_type": "display_data"
    }
   ],
   "source": [
    "# These objects will be used to place major ticks for each month and minor ticks every seven days before the\n",
    "# 28th of each month\n",
    "days = mpl.dates.DayLocator(bymonthday=range(1,28,7))\n",
    "months = mpl.dates.MonthLocator()\n",
    "# This creates month/day labels\n",
    "days_format = mpl.dates.DateFormatter('%m/%d')\n",
    "\n",
    "# Create two subplots \n",
    "figure, ax = plt.subplots(2,1,sharex=True)\n",
    "\n",
    "# Setting shared parameters\n",
    "for axis in ax:\n",
    "    axis.set_ylabel('Temperature (F)')\n",
    "    axis.set_xlabel('Month and Date')\n",
    "    \n",
    "    axis.xaxis.set_major_locator(days)\n",
    "    axis.xaxis.set_major_formatter(days_format)\n",
    "    axis.xaxis.set_minor_locator(days)\n",
    "    \n",
    "    axis.set_yticks(range(5,80,10),minor = True)\n",
    "                    \n",
    "    axis.set_xlim(combinedSK.index.values[0],combinedSK.index.values[-1])\n",
    "    axis.set_ylim(0,90)\n",
    "                    \n",
    "    axis.grid(True)\n",
    "\n",
    "# Temperature plot params\n",
    "# Plot average mean temp, average maximum temp, and average minimum temp\n",
    "ax[0].plot(combinedSK.index.values,combinedSK['TEMP'],color='orange',marker='.',markersize='16')\n",
    "ax[0].plot(combinedSK.index.values,combinedSK['MAX'],color='red')\n",
    "ax[0].plot(combinedSK.index.values,combinedSK['MIN'],color='blue')\n",
    "ax[0].set_title('Regional Average Temperature in South Korea')\n",
    "ax[0].legend(['Mean Temp','Max Temp','Min Temp'])\n",
    "                    \n",
    "#Dew point plot \n",
    "ax[1].plot(combinedSK.index.values,combinedSK['TEMP'],color='orange',marker='.')      \n",
    "ax[1].plot(combinedSK.index.values,combinedSK['DEWP'],color='purple',marker=',')\n",
    "                    \n",
    "ax[1].set_title('Regional Averages: Temperature and Dew point')\n",
    "ax[1].legend(['Mean Temp','Mean Dew Point'])\n",
    "\n",
    "#Automatically raises the bottom of the figure and fits dates for readability\n",
    "figure.autofmt_xdate()\n",
    "figure.set_figwidth(12)\n",
    "figure.set_figheight(8)\n",
    "\n",
    "plt.show()"
   ]
  },
  {
   "cell_type": "markdown",
   "metadata": {},
   "source": [
    "Overview of cumulative confirmed cases:\n",
    "- Log y scale: Each major tick is an order of magnitude\n",
    "- Note: Jump in cases between 02/15 and 02/22 appears to be tied to a spike in cases tied to a single individual reported on 02/19 per https://www.reuters.com/article/us-china-health-southkorea-cases/south-korea-reports-20-new-coronavirus-cases-church-services-at-center-of-outbreak-idUSKBN20D02O\n",
    "- Consistent daily increase in cases begins after January 31st\n",
    "- Number of new cases never rises above 100 after April 1st\n"
   ]
  },
  {
   "cell_type": "code",
   "execution_count": 413,
   "metadata": {},
   "outputs": [
    {
     "data": {
      "image/png": "[encoded data removed]",
      "text/plain": [
       "<Figure size 864x576 with 1 Axes>"
      ]
     },
     "metadata": {
      "needs_background": "light"
     },
     "output_type": "display_data"
    }
   ],
   "source": [
    "#These objects will be used to place major ticks for each month and minor ticks for each day\n",
    "days = mpl.dates.DayLocator(bymonthday=range(1,28,7))\n",
    "months = mpl.dates.MonthLocator()\n",
    "#This creates month/day labels\n",
    "days_format = mpl.dates.DateFormatter('%m/%d')\n",
    "\n",
    "figure, ax = plt.subplots()\n",
    "ax.plot_date(combinedSK.index.values,combinedSK['CumuCases'],\n",
    "             linestyle='-',marker=',',c='red')\n",
    "ax.set_title('Cumulative Confirmed NCOVID-19 Cases, South Korea')\n",
    "ax.set_ylabel('Cumulative Cases (log)')\n",
    "ax.set_xlabel('Month and Date')\n",
    "\n",
    "ax.xaxis.set_major_locator(days)\n",
    "ax.xaxis.set_major_formatter(days_format)\n",
    "ax.xaxis.set_minor_locator(days)\n",
    "\n",
    "# Sets the width of the plot to map with the date range. Offset due to index beginning at 01-16-2020 but covid\n",
    "# data beginning at 1-22-2020\n",
    "ax.set_xlim(combinedSK.index.values[0],combinedSK.index.values[-1])\n",
    "\n",
    "ax.set_yscale('log')\n",
    "\n",
    "# Adds major gridlines\n",
    "ax.grid(True)\n",
    "\n",
    "# Automatically raises the bottom of the figure and fits dates for readability\n",
    "figure.autofmt_xdate()\n",
    "figure.set_figwidth(12)\n",
    "figure.set_figheight(8)\n",
    "\n",
    "plt.show()"
   ]
  },
  {
   "cell_type": "markdown",
   "metadata": {},
   "source": [
    "Overview of cumulative confirmed cases:\n",
    "- Log y scale: Each major tick is an order of magnitude\n",
    "- First death is on February 20"
   ]
  },
  {
   "cell_type": "code",
   "execution_count": 414,
   "metadata": {},
   "outputs": [
    {
     "data": {
      "image/png": "[encoded data removed]",
      "text/plain": [
       "<Figure size 864x576 with 1 Axes>"
      ]
     },
     "metadata": {
      "needs_background": "light"
     },
     "output_type": "display_data"
    }
   ],
   "source": [
    "# These objects will be used to place major ticks for each month and minor ticks for each day\n",
    "days = mpl.dates.DayLocator(bymonthday=range(1,28,7))\n",
    "months = mpl.dates.MonthLocator()\n",
    "# This creates month/day labels\n",
    "days_format = mpl.dates.DateFormatter('%m/%d')\n",
    "\n",
    "figure, ax = plt.subplots()\n",
    "ax.plot_date(combinedSK.index.values,combinedSK['CumuDeaths'],\n",
    "             linestyle='-',marker=',',c='red')\n",
    "ax.set_title('Cumulative NCOVID-19 Mortality, South Korea')\n",
    "ax.set_ylabel('Cumulative Mortality (log)')\n",
    "ax.set_xlabel('Month and Date')\n",
    "\n",
    "ax.xaxis.set_major_locator(days)\n",
    "ax.xaxis.set_major_formatter(days_format)\n",
    "ax.xaxis.set_minor_locator(days)\n",
    "\n",
    "# Sets the width of the plot to map with the date range\n",
    "ax.set_xlim(mortDataSK.index.values[0],mortDataSK.index.values[-1])\n",
    "\n",
    "ax.set_yscale('log')\n",
    "\n",
    "# Adds major gridlines\n",
    "ax.grid(True)\n",
    "\n",
    "# Automatically raises the bottom of the figure and fits dates for readability\n",
    "figure.autofmt_xdate()\n",
    "figure.set_figwidth(12)\n",
    "figure.set_figheight(8)\n",
    "\n",
    "plt.show()"
   ]
  },
  {
   "cell_type": "markdown",
   "metadata": {},
   "source": [
    "Assume that median time between exposure and developing symptoms (and therefore becoming much more likely to get tested) is 5 days then a time lag analysis between climate conditions 5 days prior to a given date should improve fit.\n",
    "\n",
    "Since the cumulative number of cases only starts growing consistently after January 31st and the number of new cases never rises above 100 after April 1st, it is safe to assume that the greatest amount of transmission occurred in between these dates."
   ]
  },
  {
   "cell_type": "code",
   "execution_count": 418,
   "metadata": {},
   "outputs": [],
   "source": [
    "# Percent Change in cumulative cases from cumulative cases 1 and 5 days prior, respectively\n",
    "combinedSK['PctChange1Day'] = combinedSK['CumuCases'].pct_change(periods=1)\n",
    "combinedSK['PctChange5Day'] = combinedSK['CumuCases'].pct_change(periods=5)"
   ]
  },
  {
   "cell_type": "code",
   "execution_count": 419,
   "metadata": {},
   "outputs": [],
   "source": [
    "# 1 and 5-day timelags for change in cumulative mortality\n",
    "combinedSK['PctMort1Day'] = combinedSK['CumuDeaths'].pct_change(periods=1)\n",
    "combinedSK['PctMort5Day'] = combinedSK['CumuDeaths'].pct_change(periods=5)"
   ]
  },
  {
   "cell_type": "code",
   "execution_count": 420,
   "metadata": {},
   "outputs": [],
   "source": [
    "# Adds a column for the daily differential between average temperature and average dew point\n",
    "combinedSK['TEMP-DEWP'] = combinedSK['TEMP']-combinedSK['DEWP']"
   ]
  },
  {
   "cell_type": "code",
   "execution_count": 423,
   "metadata": {},
   "outputs": [],
   "source": [
    "# Pairs the percent change in cumulative cases at a given date with the average temperature on that day\n",
    "tempCases = [(combinedSK['TEMP'].iloc[i-1],combinedSK['PctChange1Day'].iloc[i]) for i in range(11,62)]\n",
    "# Percent change in cumulative cases from five days ago in terms of avg temperature five days ago\n",
    "offsetTempCases = [(combinedSK['TEMP'].iloc[i-5],combinedSK['PctChange5Day'].iloc[i]) for i in range(11,62)]\n",
    "\n",
    "# One-day offset: percent change in mortality in terms of average temperature\n",
    "tempMort = [(combinedSK['TEMP'].iloc[i-1],combinedSK['PctMort1Day'].iloc[i]) for i in range(11,62)]\n",
    "# Five-day offset: percent change in mortality in terms of average temperature\n",
    "offsetTempMort = [(combinedSK['TEMP'].iloc[i-5],combinedSK['PctMort5Day'].iloc[i]) for i in range(11,62)]\n",
    "\n",
    "# One-day offset: percent change cumulative cases in terms of temperature-dewpoint differential\n",
    "diffCases = [(combinedSK['TEMP-DEWP'].iloc[i-1],combinedSK['PctChange1Day'].iloc[i]) for i in range(11,62)]\n",
    "# Five-day offset: percent change cumulative cases in terms of temperature-dewpoint differential\n",
    "offsetDiffCases = [(combinedSK['TEMP-DEWP'].iloc[i-5],combinedSK['PctChange5Day'].iloc[i]) for i in range(11,62)]\n",
    "\n",
    "# One-day offset: percent change cumulative mortality in terms of temperature-dewpoint differential\n",
    "diffMort = [(combinedSK['TEMP-DEWP'].iloc[i-1],combinedSK['PctMort1Day'].iloc[i]) for i in range(11,62)]\n",
    "# Five-day offset: percent change cumulative mortality in terms of temperature-dewpoint differential\n",
    "offsetDiffMort = [(combinedSK['TEMP-DEWP'].iloc[i-5],combinedSK['PctMort5Day'].iloc[i]) for i in range(11,62)]\n",
    "\n",
    "\n",
    "# Data frame for recording linear regression statistics\n",
    "regressionResults = pd.DataFrame(data = None,columns = ['RSQUARED','PVALUE','SLOPE'])\n",
    "arrays = [['cases','cases','cases','cases','mortality','mortality','mortality','mortality'],\n",
    "         ['temp','temp','diff','diff','temp','temp','diff','diff'],\n",
    "         [1,5,1,5,1,5,1,5]]\n",
    "multi = pd.MultiIndex.from_arrays(arrays,names=['Measure','ClimateVar','Timelag'])\n",
    "regressionResults = regressionResults.reindex(index=multi)"
   ]
  },
  {
   "cell_type": "code",
   "execution_count": 341,
   "metadata": {},
   "outputs": [],
   "source": [
    "def casesAndTemp(tcx,tcy):\n",
    "    figure, ax = plt.subplots()\n",
    "    #Plot average mean temp and dew point. Dew point varies quite a bit hourly, but can roughly assume that days\n",
    "    #with a smaller difference between mean temp and dew point were more humid\n",
    "    ax.scatter(x=tcx,y = tcy)\n",
    "    #Plot linear regression\n",
    "    # ax.plot(range(30,60,2),[(x*slope)+intercept for x in range(30,60,2)],color='red')\n",
    "\n",
    "#     ax.set_title('Cumulative Cases as a Function of Average Temperature')\n",
    "#     ax.set_ylabel('Percent Change in Cases')\n",
    "#     ax.set_xlabel('Mean Temperature (Fahrenheit)')Proc\n",
    "    #Label regression line with formula and r^2 value\n",
    "    # ax.text(31,135,'y = {}x + {}'.format(round(slope,3),round(intercept,2),))\n",
    "    # ax.text(31,130,'r^2 = {}'.format(round(r_value**2,3)))\n",
    "\n",
    "    # ax.set_xlim(30,60)\n",
    "    # ax.set_xticks(range(30,60,1))\n",
    "    # ax.set_ylim(90,260)\n",
    "    # ax.set_yticks(range(90,260,10))\n",
    "\n",
    "    figure.set_figwidth(12)\n",
    "    figure.set_figheight(8)\n",
    "\n"
   ]
  },
  {
   "cell_type": "markdown",
   "metadata": {},
   "source": [
    "Plot in which percent change in cumulative cases from one day ago is plotted as a function of avg temperature one day ago"
   ]
  },
  {
   "cell_type": "code",
   "execution_count": 428,
   "metadata": {},
   "outputs": [
    {
     "data": {
      "image/png": "[encoded data removed]",
      "text/plain": [
       "<Figure size 864x576 with 1 Axes>"
      ]
     },
     "metadata": {
      "needs_background": "light"
     },
     "output_type": "display_data"
    }
   ],
   "source": [
    "tcx = np.array([x[0] for x in tempCases])\n",
    "tcy = np.array([y[1] for y in tempCases])\n",
    "\n",
    "casesAndTemp(tcx,tcy)\n",
    "plt.title('%Change Cumulative Cases, Temperature, Offset = 1')\n",
    "\n",
    "slope, intercept, r_value, p_value, std_err = stats.linregress(tcx,tcy)\n",
    "\n",
    "regressionResults.loc[('cases','temp',1),'RSQUARED'] = r_value**2\n",
    "regressionResults.loc[('cases','temp',1),'PVALUE'] = p_value\n",
    "regressionResults.loc[('cases','temp',1),'SLOPE'] = slope\n"
   ]
  },
  {
   "cell_type": "markdown",
   "metadata": {},
   "source": [
    "Plot in which percent change in cumulative cases from five days ago is plotted as a function of avg temperature five days ago"
   ]
  },
  {
   "cell_type": "code",
   "execution_count": 429,
   "metadata": {},
   "outputs": [
    {
     "data": {
      "image/png": "[encoded data removed]",
      "text/plain": [
       "<Figure size 864x576 with 1 Axes>"
      ]
     },
     "metadata": {
      "needs_background": "light"
     },
     "output_type": "display_data"
    }
   ],
   "source": [
    "tcx = np.array([x[0] for x in offsetTempCases])\n",
    "tcy = np.array([y[1] for y in offsetTempCases])\n",
    "# Drops NAs that interfere with calculating regression\n",
    "xandy = pd.DataFrame({'tcx':tcx,'tcy':tcy}).dropna(axis=0,how='any')\n",
    "\n",
    "casesAndTemp(xandy['tcx'],xandy['tcy'])\n",
    "plt.title('%Change Cumulative Cases, Temperature, Offset = 5')\n",
    "\n",
    "slope, intercept, r_value, p_value, std_err = stats.linregress(xandy['tcx'],xandy['tcy'])\n",
    "\n",
    "regressionResults.loc[('cases','temp',5),'RSQUARED'] = r_value**2\n",
    "regressionResults.loc[('cases','temp',5),'PVALUE'] = p_value\n",
    "regressionResults.loc[('cases','temp',5),'SLOPE'] = slope"
   ]
  },
  {
   "cell_type": "markdown",
   "metadata": {},
   "source": [
    "Plot in which percent change in cumulative mortality from one day ago is plotted as a function of avg temperature one day ago"
   ]
  },
  {
   "cell_type": "code",
   "execution_count": 430,
   "metadata": {},
   "outputs": [
    {
     "data": {
      "image/png": "[encoded data removed]",
      "text/plain": [
       "<Figure size 864x576 with 1 Axes>"
      ]
     },
     "metadata": {
      "needs_background": "light"
     },
     "output_type": "display_data"
    }
   ],
   "source": [
    "tcx = np.array([x[0] for x in tempMort])\n",
    "tcy = np.array([y[1] for y in tempMort])\n",
    "# Dropping invalid y-values\n",
    "xandy = pd.DataFrame({'tcx':tcx,'tcy':tcy}).dropna(axis=0,how='any')\n",
    "xandy = xandy.drop(16)\n",
    "\n",
    "casesAndTemp(xandy['tcx'],xandy['tcy'])\n",
    "plt.title('%Change Cumulative Mortality, Temperature, Offset = 1')\n",
    "\n",
    "slope, intercept, r_value, p_value, std_err = stats.linregress(xandy['tcx'],xandy['tcy'])\n",
    "\n",
    "regressionResults.loc[('mortality','temp',1),'RSQUARED'] = r_value**2\n",
    "regressionResults.loc[('mortality','temp',1),'PVALUE'] = p_value\n",
    "regressionResults.loc[('mortality','temp',1),'SLOPE'] = slope"
   ]
  },
  {
   "cell_type": "markdown",
   "metadata": {},
   "source": [
    "Plot in which percent change in cumulative mortality from five days ago is plotted as a function of avg temperature five days ago"
   ]
  },
  {
   "cell_type": "code",
   "execution_count": 431,
   "metadata": {},
   "outputs": [
    {
     "data": {
      "image/png": "[encoded data removed]",
      "text/plain": [
       "<Figure size 864x576 with 1 Axes>"
      ]
     },
     "metadata": {
      "needs_background": "light"
     },
     "output_type": "display_data"
    }
   ],
   "source": [
    "tcx = np.array([x[0] for x in offsetTempMort])\n",
    "tcy = np.array([y[1] for y in offsetTempMort])\n",
    "xandy = pd.DataFrame({'tcx':tcx,'tcy':tcy}).dropna(axis=0,how='any')\n",
    "# Drop non-numerical y-values\n",
    "xandy = xandy.drop([16,17,18,19,20])\n",
    "\n",
    "casesAndTemp(xandy['tcx'],xandy['tcy'])\n",
    "plt.title('%Change Cumulative Mortality, Temperature, Offset = 5')\n",
    "\n",
    "slope, intercept, r_value, p_value, std_err = stats.linregress(xandy['tcx'],xandy['tcy'])\n",
    "\n",
    "regressionResults.loc[('mortality','temp',5),'RSQUARED'] = r_value**2\n",
    "regressionResults.loc[('mortality','temp',5),'PVALUE'] = p_value\n",
    "regressionResults.loc[('mortality','temp',5),'SLOPE'] = slope"
   ]
  },
  {
   "cell_type": "code",
   "execution_count": 432,
   "metadata": {},
   "outputs": [
    {
     "data": {
      "image/png": "[encoded data removed]",
      "text/plain": [
       "<Figure size 864x576 with 1 Axes>"
      ]
     },
     "metadata": {
      "needs_background": "light"
     },
     "output_type": "display_data"
    }
   ],
   "source": [
    "tcx = np.array([x[0] for x in diffCases])\n",
    "tcy = np.array([y[1] for y in diffCases])\n",
    "xandy = pd.DataFrame({'tcx':tcx,'tcy':tcy}).dropna(axis=0,how='any')\n",
    "\n",
    "casesAndTemp(xandy['tcx'],xandy['tcy'])\n",
    "plt.title('%Change Cumulative Cases, Temp-Dewpoint Differential, Offset = 1')\n",
    "\n",
    "slope, intercept, r_value, p_value, std_err = stats.linregress(xandy['tcx'],xandy['tcy'])\n",
    "\n",
    "regressionResults.loc[('cases','diff',1),'RSQUARED'] = r_value**2\n",
    "regressionResults.loc[('cases','diff',1),'PVALUE'] = p_value\n",
    "regressionResults.loc[('cases','diff',1),'SLOPE'] = slope"
   ]
  },
  {
   "cell_type": "code",
   "execution_count": 433,
   "metadata": {},
   "outputs": [
    {
     "data": {
      "image/png": "[encoded data removed]",
      "text/plain": [
       "<Figure size 864x576 with 1 Axes>"
      ]
     },
     "metadata": {
      "needs_background": "light"
     },
     "output_type": "display_data"
    }
   ],
   "source": [
    "tcx = np.array([x[0] for x in offsetDiffCases])\n",
    "tcy = np.array([y[1] for y in offsetDiffCases])\n",
    "xandy = pd.DataFrame({'tcx':tcx,'tcy':tcy}).dropna(axis=0,how='any')\n",
    "\n",
    "casesAndTemp(xandy['tcx'],xandy['tcy'])\n",
    "plt.title('%Change Cumulative Cases, Temp-Dewpoint Differential, Offset = 5')\n",
    "\n",
    "slope, intercept, r_value, p_value, std_err = stats.linregress(xandy['tcx'],xandy['tcy'])\n",
    "\n",
    "regressionResults.loc[('cases','diff',5),'RSQUARED'] = r_value**2\n",
    "regressionResults.loc[('cases','diff',5),'PVALUE'] = p_value\n",
    "regressionResults.loc[('cases','diff',5),'SLOPE'] = slope"
   ]
  },
  {
   "cell_type": "code",
   "execution_count": 434,
   "metadata": {},
   "outputs": [
    {
     "data": {
      "image/png": "[encoded data removed]",
      "text/plain": [
       "<Figure size 864x576 with 1 Axes>"
      ]
     },
     "metadata": {
      "needs_background": "light"
     },
     "output_type": "display_data"
    }
   ],
   "source": [
    "tcx = np.array([x[0] for x in diffMort])\n",
    "tcy = np.array([y[1] for y in diffMort])\n",
    "xandy = pd.DataFrame({'tcx':tcx,'tcy':tcy}).dropna(axis=0,how='any')\n",
    "# Drop non-number values\n",
    "xandy = xandy.drop(16)\n",
    "\n",
    "casesAndTemp(xandy['tcx'],xandy['tcy'])\n",
    "plt.title('%Change Cumulative Mortality, Temp-Dewpoint Differential, Offset = 1')\n",
    "\n",
    "slope, intercept, r_value, p_value, std_err = stats.linregress(xandy['tcx'],xandy['tcy'])\n",
    "\n",
    "regressionResults.loc[('mortality','diff',1),'RSQUARED'] = r_value**2\n",
    "regressionResults.loc[('mortality','diff',1),'PVALUE'] = p_value\n",
    "regressionResults.loc[('mortality','diff',1),'SLOPE'] = slope"
   ]
  },
  {
   "cell_type": "code",
   "execution_count": 435,
   "metadata": {},
   "outputs": [
    {
     "data": {
      "image/png": "[encoded data removed]",
      "text/plain": [
       "<Figure size 864x576 with 1 Axes>"
      ]
     },
     "metadata": {
      "needs_background": "light"
     },
     "output_type": "display_data"
    }
   ],
   "source": [
    "tcx = np.array([x[0] for x in offsetDiffMort])\n",
    "tcy = np.array([y[1] for y in offsetDiffMort])\n",
    "xandy = pd.DataFrame({'tcx':tcx,'tcy':tcy}).dropna(axis=0,how='any')\n",
    "# Drop non-number values\n",
    "xandy = xandy.drop([16,17,18,19,20])\n",
    "\n",
    "casesAndTemp(xandy['tcx'],xandy['tcy'])\n",
    "plt.title('%Change Cumulative Mortality, Temp-Dewpoint Differential, Offset = 5')\n",
    "\n",
    "slope, intercept, r_value, p_value, std_err = stats.linregress(xandy['tcx'],xandy['tcy'])\n",
    "\n",
    "regressionResults.loc[('mortality','diff',5),'RSQUARED'] = r_value**2\n",
    "regressionResults.loc[('mortality','diff',5),'PVALUE'] = p_value\n",
    "regressionResults.loc[('mortality','diff',5),'SLOPE'] = slope"
   ]
  },
  {
   "cell_type": "code",
   "execution_count": 436,
   "metadata": {},
   "outputs": [
    {
     "data": {
      "text/html": [
       "<div>\n",
       "<style scoped>\n",
       "    .dataframe tbody tr th:only-of-type {\n",
       "        vertical-align: middle;\n",
       "    }\n",
       "\n",
       "    .dataframe tbody tr th {\n",
       "        vertical-align: top;\n",
       "    }\n",
       "\n",
       "    .dataframe thead th {\n",
       "        text-align: right;\n",
       "    }\n",
       "</style>\n",
       "<table border=\"1\" class=\"dataframe\">\n",
       "  <thead>\n",
       "    <tr style=\"text-align: right;\">\n",
       "      <th></th>\n",
       "      <th></th>\n",
       "      <th></th>\n",
       "      <th>RSQUARED</th>\n",
       "      <th>PVALUE</th>\n",
       "      <th>SLOPE</th>\n",
       "    </tr>\n",
       "    <tr>\n",
       "      <th>Measure</th>\n",
       "      <th>ClimateVar</th>\n",
       "      <th>Timelag</th>\n",
       "      <th></th>\n",
       "      <th></th>\n",
       "      <th></th>\n",
       "    </tr>\n",
       "  </thead>\n",
       "  <tbody>\n",
       "    <tr>\n",
       "      <th rowspan=\"4\" valign=\"top\">cases</th>\n",
       "      <th rowspan=\"2\" valign=\"top\">temp</th>\n",
       "      <th>1</th>\n",
       "      <td>0.00803593</td>\n",
       "      <td>0.531596</td>\n",
       "      <td>-0.00576764</td>\n",
       "    </tr>\n",
       "    <tr>\n",
       "      <th>5</th>\n",
       "      <td>0.105178</td>\n",
       "      <td>0.0202449</td>\n",
       "      <td>-0.292033</td>\n",
       "    </tr>\n",
       "    <tr>\n",
       "      <th rowspan=\"2\" valign=\"top\">diff</th>\n",
       "      <th>1</th>\n",
       "      <td>0.046001</td>\n",
       "      <td>0.130697</td>\n",
       "      <td>-0.0212759</td>\n",
       "    </tr>\n",
       "    <tr>\n",
       "      <th>5</th>\n",
       "      <td>0.0284611</td>\n",
       "      <td>0.236641</td>\n",
       "      <td>-0.210215</td>\n",
       "    </tr>\n",
       "    <tr>\n",
       "      <th rowspan=\"4\" valign=\"top\">mortality</th>\n",
       "      <th rowspan=\"2\" valign=\"top\">temp</th>\n",
       "      <th>1</th>\n",
       "      <td>0.00530573</td>\n",
       "      <td>0.682256</td>\n",
       "      <td>-0.00505391</td>\n",
       "    </tr>\n",
       "    <tr>\n",
       "      <th>5</th>\n",
       "      <td>0.0145609</td>\n",
       "      <td>0.525315</td>\n",
       "      <td>-0.0523866</td>\n",
       "    </tr>\n",
       "    <tr>\n",
       "      <th rowspan=\"2\" valign=\"top\">diff</th>\n",
       "      <th>1</th>\n",
       "      <td>0.0466762</td>\n",
       "      <td>0.21975</td>\n",
       "      <td>-0.0158804</td>\n",
       "    </tr>\n",
       "    <tr>\n",
       "      <th>5</th>\n",
       "      <td>0.0802007</td>\n",
       "      <td>0.129402</td>\n",
       "      <td>-0.114214</td>\n",
       "    </tr>\n",
       "  </tbody>\n",
       "</table>\n",
       "</div>"
      ],
      "text/plain": [
       "                                RSQUARED     PVALUE       SLOPE\n",
       "Measure   ClimateVar Timelag                                   \n",
       "cases     temp       1        0.00803593   0.531596 -0.00576764\n",
       "                     5          0.105178  0.0202449   -0.292033\n",
       "          diff       1          0.046001   0.130697  -0.0212759\n",
       "                     5         0.0284611   0.236641   -0.210215\n",
       "mortality temp       1        0.00530573   0.682256 -0.00505391\n",
       "                     5         0.0145609   0.525315  -0.0523866\n",
       "          diff       1         0.0466762    0.21975  -0.0158804\n",
       "                     5         0.0802007   0.129402   -0.114214"
      ]
     },
     "execution_count": 436,
     "metadata": {},
     "output_type": "execute_result"
    }
   ],
   "source": [
    "regressionResults"
   ]
  },
  {
   "cell_type": "markdown",
   "metadata": {},
   "source": [
    "## Conclusion:\n",
    "The results do not validate my hypothesis. The combination of factors that resulted in the strongest regression was Climate Variable: Temperature, Measure: % Change in total cases, Timelag: 5 days. While the p-value was less than .05, the R-squared value was only .105. Furthermore the overwhelming weakness of the other factor combinations, the fact that no potential confounding variables were addressed, and the potential of a non-linear relationship lead me to conclude that this analysis cannot claim that temperature or humidity has any mitigating effect on the spread of nCOVID-19\n",
    "\n",
    "The only encouraging aspects of this analysis is the fact that the five-day offset resulted in a stronger relationship in three out of the four pairs of measurements. This may suggest that time lags are good practice when probing relationships between variables and the spread of nCOVID-19"
   ]
  },
  {
   "cell_type": "code",
   "execution_count": null,
   "metadata": {},
   "outputs": [],
   "source": []
  }
 ],
 "metadata": {
  "kernelspec": {
   "display_name": "Python 3",
   "language": "python",
   "name": "python3"
  },
  "language_info": {
   "codemirror_mode": {
    "name": "ipython",
    "version": 3
   },
   "file_extension": ".py",
   "mimetype": "text/x-python",
   "name": "python",
   "nbconvert_exporter": "python",
   "pygments_lexer": "ipython3",
   "version": "3.7.4"
  }
 },
 "nbformat": 4,
 "nbformat_minor": 2
}
